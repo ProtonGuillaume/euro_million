{
 "cells": [
  {
   "cell_type": "code",
   "execution_count": 45,
   "metadata": {},
   "outputs": [
    {
     "name": "stderr",
     "output_type": "stream",
     "text": [
      "Matplotlib is building the font cache; this may take a moment.\n"
     ]
    }
   ],
   "source": [
    "import pandas as pd\n",
    "import matplotlib.pyplot as plt\n",
    "import numpy as np"
   ]
  },
  {
   "cell_type": "code",
   "execution_count": 46,
   "metadata": {},
   "outputs": [],
   "source": [
    "data = pd.read_csv(\"EuroMillions_numbers.csv\", sep=\";\")"
   ]
  },
  {
   "cell_type": "code",
   "execution_count": 47,
   "metadata": {},
   "outputs": [],
   "source": [
    "played_numbers = {}\n",
    "played_joker = {}\n",
    "for i in range(1,51):\n",
    "    played_numbers[str(i)] = 0\n",
    "\n",
    "for i in range(1,13):\n",
    "    played_joker[str(i)] = 0\n",
    "\n",
    "for r in data.itertuples():\n",
    "    for n in r[2:7]:\n",
    "        played_numbers[str(n)] += 1\n",
    "    for n in r[7:9]:\n",
    "        played_joker[str(n)] += 1"
   ]
  },
  {
   "cell_type": "code",
   "execution_count": 48,
   "metadata": {},
   "outputs": [
    {
     "name": "stdout",
     "output_type": "stream",
     "text": [
      "{'1': 134, '2': 118, '3': 129, '4': 144, '5': 147, '6': 121, '7': 135, '8': 120, '9': 125, '10': 141, '11': 131, '12': 125, '13': 132, '14': 136, '15': 142, '16': 132, '17': 148, '18': 114, '19': 148, '20': 144, '21': 137, '22': 113, '23': 152, '24': 127, '25': 141, '26': 137, '27': 143, '28': 130, '29': 140, '30': 142, '31': 123, '32': 125, '33': 108, '34': 122, '35': 122, '36': 119, '37': 142, '38': 144, '39': 137, '40': 123, '41': 115, '42': 144, '43': 126, '44': 149, '45': 139, '46': 113, '47': 108, '48': 120, '49': 135, '50': 148}\n",
      "{'1': 229, '2': 271, '3': 265, '4': 221, '5': 240, '6': 234, '7': 233, '8': 263, '9': 249, '10': 181, '11': 174, '12': 76}\n"
     ]
    }
   ],
   "source": [
    "print(played_numbers)\n",
    "print(played_joker)"
   ]
  },
  {
   "cell_type": "code",
   "execution_count": 50,
   "metadata": {},
   "outputs": [
    {
     "data": {
      "image/png": "[encoded data removed]",
      "text/plain": [
       "<Figure size 432x288 with 1 Axes>"
      ]
     },
     "metadata": {
      "needs_background": "light"
     },
     "output_type": "display_data"
    }
   ],
   "source": [
    "plt.bar(list(played_numbers.keys()), played_numbers.values(), color='g')\n",
    "plt.show()"
   ]
  },
  {
   "cell_type": "code",
   "execution_count": 52,
   "metadata": {},
   "outputs": [
    {
     "data": {
      "image/png": "[encoded data removed]",
      "text/plain": [
       "<Figure size 432x288 with 1 Axes>"
      ]
     },
     "metadata": {
      "needs_background": "light"
     },
     "output_type": "display_data"
    }
   ],
   "source": [
    "plt.bar(list(played_joker.keys()), played_joker.values(), color='g')\n",
    "plt.show()"
   ]
  }
 ],
 "metadata": {
  "interpreter": {
   "hash": "df0893f56f349688326838aaeea0de204df53a132722cbd565e54b24a8fec5f6"
  },
  "kernelspec": {
   "display_name": "Python 3.8.0 64-bit",
   "language": "python",
   "name": "python3"
  },
  "language_info": {
   "codemirror_mode": {
    "name": "ipython",
    "version": 3
   },
   "file_extension": ".py",
   "mimetype": "text/x-python",
   "name": "python",
   "nbconvert_exporter": "python",
   "pygments_lexer": "ipython3",
   "version": "3.8.10"
  },
  "orig_nbformat": 4
 },
 "nbformat": 4,
 "nbformat_minor": 2
}
